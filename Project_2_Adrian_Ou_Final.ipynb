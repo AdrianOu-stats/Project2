{
  "nbformat": 4,
  "nbformat_minor": 0,
  "metadata": {
    "colab": {
      "name": "Project_2_Adrian_Ou_Final.ipynb",
      "provenance": [],
      "collapsed_sections": [],
      "include_colab_link": true
    },
    "kernelspec": {
      "name": "python3",
      "display_name": "Python 3"
    },
    "language_info": {
      "name": "python"
    }
  },
  "cells": [
    {
      "cell_type": "markdown",
      "metadata": {
        "id": "view-in-github",
        "colab_type": "text"
      },
      "source": [
        "<a href=\"https://colab.research.google.com/github/AdrianOu-stats/Project2/blob/main/Project_2_Adrian_Ou_Final.ipynb\" target=\"_parent\"><img src=\"https://colab.research.google.com/assets/colab-badge.svg\" alt=\"Open In Colab\"/></a>"
      ]
    },
    {
      "cell_type": "code",
      "metadata": {
        "id": "SC9kDEmIYbNQ"
      },
      "source": [
        "import pandas as pd\n",
        "import numpy as np\n",
        "import seaborn as sns\n",
        "import matplotlib.pyplot as plt\n",
        "%matplotlib inline"
      ],
      "execution_count": null,
      "outputs": []
    },
    {
      "cell_type": "code",
      "metadata": {
        "id": "iWNiE_uxZEED"
      },
      "source": [
        "df_covid = pd.read_csv(\"https://raw.githubusercontent.com/nytimes/covid-19-data/master/us-counties.csv\")"
      ],
      "execution_count": null,
      "outputs": []
    },
    {
      "cell_type": "code",
      "metadata": {
        "id": "9JCU91vWDCYT"
      },
      "source": [
        "# Take a glance at the big picture of the data.\n",
        "\n",
        "df_covid"
      ],
      "execution_count": null,
      "outputs": []
    },
    {
      "cell_type": "code",
      "metadata": {
        "id": "rn97Bms6vvE8"
      },
      "source": [
        "df_covid.info()"
      ],
      "execution_count": null,
      "outputs": []
    },
    {
      "cell_type": "code",
      "metadata": {
        "id": "_nLg2NW_S2cu"
      },
      "source": [
        "df_covid.describe()"
      ],
      "execution_count": null,
      "outputs": []
    },
    {
      "cell_type": "code",
      "metadata": {
        "id": "gfJM8FMJRcQd"
      },
      "source": [
        "# Found some null values. Try to loacte and clean them. Inspect \"deaths\" column first.\n",
        "\n",
        "pd.isnull(df_covid['deaths'])"
      ],
      "execution_count": null,
      "outputs": []
    },
    {
      "cell_type": "code",
      "metadata": {
        "id": "3FuDDtfbSBot"
      },
      "source": [
        "pd.isnull(df_covid['deaths']).sum()"
      ],
      "execution_count": null,
      "outputs": []
    },
    {
      "cell_type": "code",
      "metadata": {
        "id": "y3nqLgvAU1V8"
      },
      "source": [
        "df_covid[pd.isnull(df_covid['deaths'])]"
      ],
      "execution_count": null,
      "outputs": []
    },
    {
      "cell_type": "code",
      "metadata": {
        "id": "VCob1rBDBg9Y"
      },
      "source": [
        "# Establish a deep copy to further investigate these null values in the section.\n",
        "\n",
        "df_covid_copy_deaths = df_covid[pd.isnull(df_covid['deaths'])]"
      ],
      "execution_count": null,
      "outputs": []
    },
    {
      "cell_type": "code",
      "metadata": {
        "id": "M6GpDtB57LCw"
      },
      "source": [
        "df_covid_copy_deaths.info()"
      ],
      "execution_count": null,
      "outputs": []
    },
    {
      "cell_type": "code",
      "metadata": {
        "id": "LSsVQf7w-8cj"
      },
      "source": [
        "df_covid_copy_deaths['state'].value_counts()"
      ],
      "execution_count": null,
      "outputs": []
    },
    {
      "cell_type": "code",
      "metadata": {
        "id": "_9kOV_cZWgcA"
      },
      "source": [
        "# It seems like all null values in the \"deaths\" column are from Puerto Rico. \n",
        "# Puerto Rico's covid death counts hasn't been recorded for almost 16 months in this data frame. 37169 values are missing in total. \n",
        "# Due to the large numbers of missing values, I decided to exclude Puerto Rico's deaths counts when computing deaths counts related statistics."
      ],
      "execution_count": null,
      "outputs": []
    },
    {
      "cell_type": "code",
      "metadata": {
        "id": "epVzRGWVf3az"
      },
      "source": [
        "df_covid.cases.describe()"
      ],
      "execution_count": null,
      "outputs": []
    },
    {
      "cell_type": "code",
      "metadata": {
        "id": "AfF_zg9RgNiH"
      },
      "source": [
        "df_covid"
      ],
      "execution_count": null,
      "outputs": []
    },
    {
      "cell_type": "code",
      "metadata": {
        "id": "T_22td1hT9mQ"
      },
      "source": [
        "# Next, some \"fips\" values are null. Let's investigate.\n",
        "\n",
        "pd.isnull(df_covid['fips'])"
      ],
      "execution_count": null,
      "outputs": []
    },
    {
      "cell_type": "code",
      "metadata": {
        "id": "0HDyxLVOF2hT"
      },
      "source": [
        "pd.isnull(df_covid['fips']).sum()"
      ],
      "execution_count": null,
      "outputs": []
    },
    {
      "cell_type": "code",
      "metadata": {
        "id": "HxGSUCoiF9AQ"
      },
      "source": [
        "df_covid[pd.isnull(df_covid['fips'])]"
      ],
      "execution_count": null,
      "outputs": []
    },
    {
      "cell_type": "code",
      "metadata": {
        "id": "cqDDY-NZGU0x"
      },
      "source": [
        "# Accidentally found some \"Unknown\" values in \"county\" column. \n",
        "# However, one of my goals is to analyze New York state, so county info doesn't effect me for now.\n",
        "# This reminded me to check if there are any unexpected values in \"state\" column. Checking now.\n",
        "\n",
        "df_covid['state'].value_counts()"
      ],
      "execution_count": null,
      "outputs": []
    },
    {
      "cell_type": "code",
      "metadata": {
        "id": "tagLpdXgIHkK"
      },
      "source": [
        "# No unexpected value found. Proceed to investigate the null \"fips\" values.\n",
        "# Establish another deep copy of this data frame with null 'fips value.\n",
        "\n",
        "df_covid_copy_nullfips = df_covid[pd.isnull(df_covid['fips'])]"
      ],
      "execution_count": null,
      "outputs": []
    },
    {
      "cell_type": "code",
      "metadata": {
        "id": "2dgNgQzwJGfZ"
      },
      "source": [
        "# Take a cloer look at these null values.\n",
        "\n",
        "df_covid_copy_nullfips.info()"
      ],
      "execution_count": null,
      "outputs": []
    },
    {
      "cell_type": "code",
      "metadata": {
        "id": "I75_fYcYJT7h"
      },
      "source": [
        "df_covid_copy_nullfips['state'].value_counts()"
      ],
      "execution_count": null,
      "outputs": []
    },
    {
      "cell_type": "code",
      "metadata": {
        "id": "V5eaixlBLKs7"
      },
      "source": [
        "# My focus is on New York, so I'm ignoring other states' null fips values.\n",
        "# Attempt to replace NY null fips values with the correct ones.\n",
        "\n",
        "## Let's start by getting a feel of this sectioned dataframe\n",
        "df_covid_copy_nullfips[df_covid_copy_nullfips['state'] == 'New York'].sample(10)"
      ],
      "execution_count": null,
      "outputs": []
    },
    {
      "cell_type": "code",
      "metadata": {
        "id": "_I87yHkrIlq6"
      },
      "source": [
        "df_covid_copy_nullfips[df_covid_copy_nullfips['state'] == 'New York'].sample(10)"
      ],
      "execution_count": null,
      "outputs": []
    },
    {
      "cell_type": "code",
      "metadata": {
        "id": "O6EaVlJnI_u1"
      },
      "source": [
        "df_covid_copy_nullfips[df_covid_copy_nullfips['state'] == 'New York'].head(40)"
      ],
      "execution_count": null,
      "outputs": []
    },
    {
      "cell_type": "code",
      "metadata": {
        "id": "8zmjAeb2JJWO"
      },
      "source": [
        "df_covid_copy_nullfips[df_covid_copy_nullfips['state'] == 'New York'].tail(40)"
      ],
      "execution_count": null,
      "outputs": []
    },
    {
      "cell_type": "code",
      "metadata": {
        "id": "1sgI2qm5N9C1"
      },
      "source": [
        "df_covid_copy_nullfips[df_covid_copy_nullfips['state'] == 'New York'].county.value_counts()"
      ],
      "execution_count": null,
      "outputs": []
    },
    {
      "cell_type": "code",
      "metadata": {
        "id": "90fRHs-kqIEC"
      },
      "source": [
        "df_covid_NYS = df_covid[df_covid['state'] == 'New York'].copy()\n",
        "df_covid_NYS.info()"
      ],
      "execution_count": null,
      "outputs": []
    },
    {
      "cell_type": "code",
      "metadata": {
        "id": "GhIGRhJUqR3W"
      },
      "source": [
        "df_covid_NYS[df_covid_NYS.county == 'Unknown']"
      ],
      "execution_count": null,
      "outputs": []
    },
    {
      "cell_type": "code",
      "metadata": {
        "id": "cYLkrRp6reXn"
      },
      "source": [
        "df_covid_NYS[df_covid_NYS.county == 'Unknown'].count()"
      ],
      "execution_count": null,
      "outputs": []
    },
    {
      "cell_type": "code",
      "metadata": {
        "id": "3a3JAptymHSD"
      },
      "source": [
        "# 10 unknown counties with 10 NaN fips values, so no way to recover. \n",
        "# I want to further confirm that each of the county names has a one to one relationship with its fips value. If not, I will have to do some more cleaning.\n",
        "\n",
        "df_covid_NYS[['county', 'fips']].value_counts()"
      ],
      "execution_count": null,
      "outputs": []
    },
    {
      "cell_type": "code",
      "metadata": {
        "id": "5suou_85O97r"
      },
      "source": [
        "df_covid_NYS.county.value_counts().sum()"
      ],
      "execution_count": null,
      "outputs": []
    },
    {
      "cell_type": "code",
      "metadata": {
        "id": "Ue1k5eJiZktG"
      },
      "source": [
        "df_covid_NYS.fips.value_counts().sum()"
      ],
      "execution_count": null,
      "outputs": []
    },
    {
      "cell_type": "code",
      "metadata": {
        "id": "SN4dHASlP7UM"
      },
      "source": [
        "# Of the 552 null values from New York State, 542 are from New York City and 10 are from unknown counties. \n",
        "# It should be safe to exclude the 10 unknown county values (out of 552) when computing county related statistics.\n",
        "# Attempted to replace 542 null values with New York City fips number, but realized that the data doesn't specify \"fips\" values for any counties in New York City perhaps because it was contructed in a way that it views New York City as a whole.\n",
        "# I decided to assign \"36000.0\" as New York City's \"fips\" code since the code \"36000.0\" hasn't been assigned to any counties yet.\n",
        "\n",
        "df_covid_NYC = df_covid[df_covid['county'] == 'New York City'].copy()\n",
        "df_covid_NYC"
      ],
      "execution_count": null,
      "outputs": []
    },
    {
      "cell_type": "code",
      "metadata": {
        "id": "akOuEn7QvvXR"
      },
      "source": [
        "df_covid_NYC.county.value_counts()"
      ],
      "execution_count": null,
      "outputs": []
    },
    {
      "cell_type": "code",
      "metadata": {
        "id": "sWtE2_s5s45f"
      },
      "source": [
        "# Null values are replaced by code 36000.0\n",
        "\n",
        "df_covid_NYS.loc[df_covid_NYS.county == 'New York City', 'fips'] = 36000.0\n",
        "df_covid_NYC = df_covid_NYS[df_covid_NYS['county'] == 'New York City'].copy()\n",
        "df_covid_NYC.info()"
      ],
      "execution_count": null,
      "outputs": []
    },
    {
      "cell_type": "code",
      "metadata": {
        "id": "60SE-rC_uWCH"
      },
      "source": [
        "df_covid_NYS.info()"
      ],
      "execution_count": null,
      "outputs": []
    },
    {
      "cell_type": "code",
      "metadata": {
        "id": "zR-b__Dh-Zmf"
      },
      "source": [
        "df_covid_NYC['date'] = pd.to_datetime(df_covid_NYC.date)\n",
        "df_covid_NYC_daily = df_covid_NYC.groupby('date',as_index=False, sort=False)[['cases', 'deaths']].sum()\n",
        "df_covid_NYC_daily31 = df_covid_NYC_daily.iloc[-31:].copy()\n",
        "df_covid_NYC_daily31['year'] = pd.DatetimeIndex(df_covid_NYC_daily31.date).year\n",
        "df_covid_NYC_daily31['month'] = pd.DatetimeIndex(df_covid_NYC_daily31.date).month\n",
        "df_covid_NYC_daily31['day'] = pd.DatetimeIndex(df_covid_NYC_daily31.date).day\n",
        "df_covid_NYC_daily31"
      ],
      "execution_count": null,
      "outputs": []
    },
    {
      "cell_type": "code",
      "metadata": {
        "id": "RUYeEx_ZDzUy"
      },
      "source": [
        "df_covid_NYC_daily31['daily_new_cases'] = df_covid_NYC_daily31.cases.diff()\n",
        "df_covid_NYC_daily31['daily_new_deaths'] = df_covid_NYC_daily31.deaths.diff()\n",
        "df_covid_NYC_daily30 = df_covid_NYC_daily31.iloc[-30:].copy()\n",
        "df_covid_NYC_daily30"
      ],
      "execution_count": null,
      "outputs": []
    },
    {
      "cell_type": "code",
      "metadata": {
        "id": "igF_ba1rA2Ka"
      },
      "source": [
        "df_covid_NYC_daily30.describe()"
      ],
      "execution_count": null,
      "outputs": []
    },
    {
      "cell_type": "code",
      "metadata": {
        "id": "2qX0iX5bCncq"
      },
      "source": [
        "plt.plot(df_covid_NYC_daily30.date, df_covid_NYC_daily30.daily_new_cases)\n",
        "plt.gcf().set_size_inches(15, 10);"
      ],
      "execution_count": null,
      "outputs": []
    },
    {
      "cell_type": "code",
      "metadata": {
        "id": "mYGOjvqXEog4"
      },
      "source": [
        "plt.plot(df_covid_NYC_daily30.date, df_covid_NYC_daily30.daily_new_deaths)\n",
        "plt.gcf().set_size_inches(15, 10);"
      ],
      "execution_count": null,
      "outputs": []
    },
    {
      "cell_type": "markdown",
      "metadata": {
        "id": "3nJXFslv_8Ue"
      },
      "source": [
        "**Next, I want to look at the NYS in the past 30 days.**\n",
        "\n",
        "**I want to monitor the recent changes for each county and then see NYS as a whole.**\n",
        "\n",
        "**Two major goals here**\n",
        "1.   Use slicing and filtering to get the past 31 days dataframe. \n",
        "2.   Derive new daily cases and new daily deaths from cumulative cases and deaths. Adjust dataframe from 31 to 30 days.\n",
        "\n",
        "\n",
        "\n"
      ]
    },
    {
      "cell_type": "code",
      "metadata": {
        "id": "5wPLRTNDumLq"
      },
      "source": [
        "# Convert the datatype from string to datetime \n",
        "df_covid_NYS['date'] = pd.to_datetime(df_covid_NYS.date)\n",
        "df_covid_NYS.info()"
      ],
      "execution_count": null,
      "outputs": []
    },
    {
      "cell_type": "code",
      "metadata": {
        "id": "0ufKp5ClDT2w"
      },
      "source": [
        "# I want to add a year, a month, and a day column.\n",
        "df_covid_NYS['year'] = pd.DatetimeIndex(df_covid_NYS.date).year\n",
        "df_covid_NYS['month'] = pd.DatetimeIndex(df_covid_NYS.date).month\n",
        "df_covid_NYS['day'] = pd.DatetimeIndex(df_covid_NYS.date).day\n",
        "df_covid_NYS"
      ],
      "execution_count": null,
      "outputs": []
    },
    {
      "cell_type": "code",
      "metadata": {
        "id": "gIsrclsSL-Go"
      },
      "source": [
        "# Create a \"df_covid_NYS_copy\" excluding the 10 unknowns so that I can better analyze each indiviual county in NYS now.\n",
        "# This way \"df_covid_NYS\" is preserved for state wise analysis later on.\n",
        "df_covid_NYS_copy = df_covid_NYS[df_covid_NYS.county != 'Unknown'].copy()\n",
        "df_covid_NYS_copy"
      ],
      "execution_count": null,
      "outputs": []
    },
    {
      "cell_type": "code",
      "metadata": {
        "id": "t84n0oF-g_eN"
      },
      "source": [
        "# Filter to get the past 31 days dataframe.\n",
        "df_covid_NYS_21 = df_covid_NYS_copy[df_covid_NYS_copy.year == 2021].copy() \n",
        "df_covid_NYS_21_0723 = df_covid_NYS_21[(100*df_covid_NYS_21.month + df_covid_NYS_21.day) >= (700+23)].copy()\n",
        "df_covid_NYS_21_0723_to_0822 = df_covid_NYS_21_0723[(100*df_covid_NYS_21_0723.month + df_covid_NYS_21_0723.day) <= (800+22)].copy()"
      ],
      "execution_count": null,
      "outputs": []
    },
    {
      "cell_type": "code",
      "metadata": {
        "id": "Vr-HWyoTZodm"
      },
      "source": [
        "# Sort. Preparing for the diff() moment.\n",
        "df_covid_NYS_21_0723_to_0822_sort = df_covid_NYS_21_0723_to_0822.sort_values(['county', 'date']).copy()\n",
        "df_covid_NYS_21_0723_to_0822_sort"
      ],
      "execution_count": null,
      "outputs": []
    },
    {
      "cell_type": "code",
      "metadata": {
        "id": "TAAokSdt3cyP"
      },
      "source": [
        "# Perform diff() to derive new daily counts. \n",
        "df_covid_NYS_21_0723_to_0822_sort['daily_new_cases'] = df_covid_NYS_21_0723_to_0822_sort.cases.diff()\n",
        "df_covid_NYS_21_0723_to_0822_sort['daily_new_deaths'] = df_covid_NYS_21_0723_to_0822_sort.deaths.diff()"
      ],
      "execution_count": null,
      "outputs": []
    },
    {
      "cell_type": "code",
      "metadata": {
        "id": "pjT3LB0qHldn"
      },
      "source": [
        "# Double checking these sacrificial rows.\n",
        "rows_20210723 = df_covid_NYS_21_0723_to_0822_sort[df_covid_NYS_21_0723_to_0822_sort.date == '2021-07-23']\n",
        "rows_20210723"
      ],
      "execution_count": null,
      "outputs": []
    },
    {
      "cell_type": "code",
      "metadata": {
        "id": "uoZIrEJ-Ig0d"
      },
      "source": [
        "# 62 counties in NYS where 5 counties are counted as one here. \n",
        "rows_20210723.count()"
      ],
      "execution_count": null,
      "outputs": []
    },
    {
      "cell_type": "code",
      "metadata": {
        "id": "5_NQbpe56ofa"
      },
      "source": [
        "# Adjusting dataframe from 31 days to 30 days by excluding those invalid rows resulted from the diff() function.\n",
        "df_covid_NYS_21_0724_to_0822_sort = df_covid_NYS_21_0723_to_0822_sort[\n",
        "                                                                      (100*df_covid_NYS_21_0723_to_0822_sort.month \n",
        "                                                                       + df_covid_NYS_21_0723_to_0822_sort.day)\n",
        "                                                                       >(700+23)].copy()\n",
        "df_covid_NYS_21_0724_to_0822_sort"
      ],
      "execution_count": null,
      "outputs": []
    },
    {
      "cell_type": "code",
      "metadata": {
        "id": "BdTi5BltTd5m"
      },
      "source": [
        "df_covid_NYS_21_0724_to_0822_sort.info()"
      ],
      "execution_count": null,
      "outputs": []
    },
    {
      "cell_type": "markdown",
      "metadata": {
        "id": "y-IsFJvKVuKk"
      },
      "source": [
        "**Unfortunately, I have to admit that it was overly ambitious to try to analyze the trend of 58 counties with the skillset I currently possess. This is as far as I can go for now. I will revisit this attempt in the near future.**"
      ]
    },
    {
      "cell_type": "code",
      "metadata": {
        "id": "TW9woM8tfRgP"
      },
      "source": [
        "# Let's take a look at NYS as a whole. I want to see the past 30 days daily data for NYS. \n",
        "\n",
        "df_covid_NYS_daily = df_covid_NYS.groupby('date',as_index=False, sort=False)[['cases', 'deaths']].sum()\n",
        "df_covid_NYS_daily31 = df_covid_NYS_daily.iloc[-31:].copy()\n",
        "df_covid_NYS_daily31.describe()"
      ],
      "execution_count": null,
      "outputs": []
    },
    {
      "cell_type": "code",
      "metadata": {
        "id": "epkEYyh_IDsJ"
      },
      "source": [
        "plt.plot(df_covid_NYS_daily31.date, df_covid_NYS_daily31.cases)\n",
        "plt.gcf().set_size_inches(15, 15)"
      ],
      "execution_count": null,
      "outputs": []
    },
    {
      "cell_type": "code",
      "metadata": {
        "id": "vNr8Xp0fIE9A"
      },
      "source": [
        "plt.plot(df_covid_NYS_daily31.date, df_covid_NYS_daily31.deaths)\n",
        "plt.gcf().set_size_inches(15, 15)"
      ],
      "execution_count": null,
      "outputs": []
    },
    {
      "cell_type": "code",
      "metadata": {
        "id": "H4_cxo_xjPuI"
      },
      "source": [
        "# The \"cases\" and \"deaths\" columns are cumulative counts. They either go up or stay flat. I can't tell too much from them.\n",
        "# They are not too clear in relecting the recent changes, so I want to find the new cases and deaths per day.\n",
        "\n",
        "df_covid_NYS_daily31['daily_new_cases'] = df_covid_NYS_daily31.cases.diff()\n",
        "df_covid_NYS_daily31['daily_new_deaths'] = df_covid_NYS_daily31.deaths.diff()\n",
        "df_covid_NYS_daily31['month'] = pd.DatetimeIndex(df_covid_NYS_daily31.date).month\n",
        "df_covid_NYS_daily31['day'] = pd.DatetimeIndex(df_covid_NYS_daily31.date).day\n",
        "df_covid_NYS_daily30 = df_covid_NYS_daily31.iloc[-30:].copy()\n",
        "df_covid_NYS_daily30"
      ],
      "execution_count": null,
      "outputs": []
    },
    {
      "cell_type": "code",
      "metadata": {
        "id": "tTPQOvmCMDHi"
      },
      "source": [
        "df_covid_NYS_daily30.describe()"
      ],
      "execution_count": null,
      "outputs": []
    },
    {
      "cell_type": "code",
      "metadata": {
        "id": "MPkFquPSG24U"
      },
      "source": [
        "# So much better. Let's plot.\n",
        "\n",
        "plt.plot(df_covid_NYS_daily30.date, df_covid_NYS_daily30.daily_new_cases)\n",
        "plt.gcf().set_size_inches(10, 10)"
      ],
      "execution_count": null,
      "outputs": []
    },
    {
      "cell_type": "code",
      "metadata": {
        "id": "5wSVl_xLJSPV"
      },
      "source": [
        "plt.plot(df_covid_NYS_daily30.date, df_covid_NYS_daily30.daily_new_deaths)\n",
        "plt.gcf().set_size_inches(10, 10)"
      ],
      "execution_count": null,
      "outputs": []
    },
    {
      "cell_type": "code",
      "metadata": {
        "id": "wbAZPhPnHAr3"
      },
      "source": [
        "# Comparing the two other states to NYS. \n",
        "# I selected two states with various controversial COVID and COVID vaccine related governmental policies/attitudes. \n",
        "# Florida and Califlornia\n",
        "\n",
        "df_covid_FL = df_covid[df_covid['state'] == 'Florida'].copy()\n",
        "df_covid_FL['date'] = pd.to_datetime(df_covid_FL.date)\n",
        "df_covid_CA = df_covid[df_covid['state'] == 'California'].copy()\n",
        "df_covid_CA['date'] = pd.to_datetime(df_covid_CA.date)"
      ],
      "execution_count": null,
      "outputs": []
    },
    {
      "cell_type": "code",
      "metadata": {
        "id": "_P1mYxgYi3qM"
      },
      "source": [
        "df_covid_FL"
      ],
      "execution_count": null,
      "outputs": []
    },
    {
      "cell_type": "code",
      "metadata": {
        "id": "jonVQDSnjdsu"
      },
      "source": [
        "df_covid_FL.info()"
      ],
      "execution_count": null,
      "outputs": []
    },
    {
      "cell_type": "code",
      "metadata": {
        "id": "SSC1irB5jXh_"
      },
      "source": [
        "df_covid_CA"
      ],
      "execution_count": null,
      "outputs": []
    },
    {
      "cell_type": "code",
      "metadata": {
        "id": "2FjqZpRoje69"
      },
      "source": [
        "df_covid_CA.info()"
      ],
      "execution_count": null,
      "outputs": []
    },
    {
      "cell_type": "code",
      "metadata": {
        "id": "_GBAnDwYjYAE"
      },
      "source": [
        "# Group and slice.\n",
        "df_covid_FL_daily = df_covid_FL.groupby('date',as_index=False, sort=False)[['cases', 'deaths']].sum()\n",
        "df_covid_FL_daily31 = df_covid_FL_daily.iloc[-31:].copy()\n",
        "df_covid_CA_daily = df_covid_CA.groupby('date',as_index=False, sort=False)[['cases', 'deaths']].sum()\n",
        "df_covid_CA_daily31 = df_covid_CA_daily.iloc[-31:].copy()"
      ],
      "execution_count": null,
      "outputs": []
    },
    {
      "cell_type": "code",
      "metadata": {
        "id": "4RqpyArEmmej"
      },
      "source": [
        "# Derive and exclude. (FL)\n",
        "df_covid_FL_daily31['daily_new_cases'] = df_covid_FL_daily31.cases.diff()\n",
        "df_covid_FL_daily31['daily_new_deaths'] = df_covid_FL_daily31.deaths.diff()\n",
        "df_covid_FL_daily30 = df_covid_FL_daily31.iloc[-30:].copy()\n",
        "df_covid_FL_daily30['month'] = pd.DatetimeIndex(df_covid_FL_daily30.date).month\n",
        "df_covid_FL_daily30['day'] = pd.DatetimeIndex(df_covid_FL_daily30.date).day\n",
        "df_covid_FL_daily30"
      ],
      "execution_count": null,
      "outputs": []
    },
    {
      "cell_type": "code",
      "metadata": {
        "id": "rmraXruSnMt_"
      },
      "source": [
        "df_covid_FL_daily30.describe()"
      ],
      "execution_count": null,
      "outputs": []
    },
    {
      "cell_type": "code",
      "metadata": {
        "id": "kSqkNTdFnBPN"
      },
      "source": [
        "# Derive and exclude. (CA)\n",
        "df_covid_CA_daily31['daily_new_cases'] = df_covid_CA_daily31.cases.diff()\n",
        "df_covid_CA_daily31['daily_new_deaths'] = df_covid_CA_daily31.deaths.diff()\n",
        "df_covid_CA_daily31['month'] = pd.DatetimeIndex(df_covid_CA_daily31.date).month\n",
        "df_covid_CA_daily31['day'] = pd.DatetimeIndex(df_covid_CA_daily31.date).day\n",
        "df_covid_CA_daily30 = df_covid_CA_daily31.iloc[-30:].copy()\n",
        "df_covid_CA_daily30"
      ],
      "execution_count": null,
      "outputs": []
    },
    {
      "cell_type": "code",
      "metadata": {
        "id": "IGyaPdiK4J2u"
      },
      "source": [
        "# There are two negative values (-5 and -357) in the daily_new_deaths column. Presumably, they are used to offset past recording errors. \n",
        "# This time I am replacing both with the mean value that is the average of the past 30 days excluding the data point -357.\n",
        "# It makes sense not to adjust the cumulative death counts since changing it defeats the very purpose of the correction.\n",
        "\n",
        "# Compute mean:\n",
        "CA_new_deaths_mean = df_covid_CA_daily30.daily_new_deaths[df_covid_CA_daily30.daily_new_deaths >= -5].mean()\n",
        "CA_new_deaths_mean"
      ],
      "execution_count": null,
      "outputs": []
    },
    {
      "cell_type": "code",
      "metadata": {
        "id": "cVa_J5un7Nkh"
      },
      "source": [
        "# Replace:\n",
        "df_covid_CA_daily30.loc[556, 'daily_new_deaths'] = CA_new_deaths_mean\n",
        "df_covid_CA_daily30.loc[564, 'daily_new_deaths'] = CA_new_deaths_mean\n",
        "df_covid_CA_daily30"
      ],
      "execution_count": null,
      "outputs": []
    },
    {
      "cell_type": "code",
      "metadata": {
        "id": "ZnN6G91MnVoI"
      },
      "source": [
        "df_covid_CA_daily30.describe()"
      ],
      "execution_count": null,
      "outputs": []
    },
    {
      "cell_type": "code",
      "metadata": {
        "id": "C2FcNh7loFO6"
      },
      "source": [
        "# Refresh memory.\n",
        "df_covid_NYS_daily30"
      ],
      "execution_count": null,
      "outputs": []
    },
    {
      "cell_type": "code",
      "metadata": {
        "id": "QYpjc6ponfNH"
      },
      "source": [
        "df_covid_NYS_daily30.describe()"
      ],
      "execution_count": null,
      "outputs": []
    },
    {
      "cell_type": "markdown",
      "metadata": {
        "id": "-_TR76ccpL_h"
      },
      "source": [
        "**Let's look at the cumulative cases and deaths counts per day for FL, CA, and NYS.**"
      ]
    },
    {
      "cell_type": "code",
      "metadata": {
        "id": "CTTRwT8XpV5r"
      },
      "source": [
        "plt.plot(df_covid_FL_daily30.date, df_covid_FL_daily30.cases, label=\"FL\")\n",
        "plt.plot(df_covid_CA_daily30.date, df_covid_CA_daily30.cases, label=\"CA\")\n",
        "plt.plot(df_covid_NYS_daily30.date, df_covid_NYS_daily30.cases, label=\"NYS\")\n",
        "plt.legend()\n",
        "plt.gcf().set_size_inches(15, 10)\n",
        "plt.title(\"Cumulative Cases Reported Past 30 days\");"
      ],
      "execution_count": null,
      "outputs": []
    },
    {
      "cell_type": "code",
      "metadata": {
        "id": "lPHe2uwwpd2M"
      },
      "source": [
        "plt.plot(df_covid_FL_daily30.date, df_covid_FL_daily30.deaths, label=\"FL\")\n",
        "plt.plot(df_covid_CA_daily30.date, df_covid_CA_daily30.deaths, label=\"CA\")\n",
        "plt.plot(df_covid_NYS_daily30.date, df_covid_NYS_daily30.deaths, label=\"NYS\")\n",
        "plt.legend()\n",
        "plt.gcf().set_size_inches(15, 10)\n",
        "plt.title(\"Cumulative Deaths Reported Past 30 days\");"
      ],
      "execution_count": null,
      "outputs": []
    },
    {
      "cell_type": "markdown",
      "metadata": {
        "id": "KSaL78gNUZhi"
      },
      "source": [
        "**Now the new cases and deaths counts per day for FL, CA, and NYS.**"
      ]
    },
    {
      "cell_type": "code",
      "metadata": {
        "id": "re1YLBnzvtwz"
      },
      "source": [
        "plt.plot(df_covid_FL_daily30.date, df_covid_FL_daily30.daily_new_cases, label=\"FL\")\n",
        "plt.plot(df_covid_CA_daily30.date, df_covid_CA_daily30.daily_new_cases, label=\"CA\")\n",
        "plt.plot(df_covid_NYS_daily30.date, df_covid_NYS_daily30.daily_new_cases, label=\"NYS\")\n",
        "plt.legend()\n",
        "plt.gcf().set_size_inches(15, 10)\n",
        "plt.title(\"New Daily Cases Reported Past 30 days\");"
      ],
      "execution_count": null,
      "outputs": []
    },
    {
      "cell_type": "code",
      "metadata": {
        "id": "Q-Vwu26yv6BX"
      },
      "source": [
        "plt.plot(df_covid_FL_daily30.date, df_covid_FL_daily30.daily_new_deaths, label=\"FL\")\n",
        "plt.plot(df_covid_CA_daily30.date, df_covid_CA_daily30.daily_new_deaths, label=\"CA\")\n",
        "plt.plot(df_covid_NYS_daily30.date, df_covid_NYS_daily30.daily_new_deaths, label=\"NYS\")\n",
        "plt.legend()\n",
        "plt.gcf().set_size_inches(15, 10)\n",
        "plt.title(\"New Daily Deaths Reported Past 30 days\");"
      ],
      "execution_count": null,
      "outputs": []
    },
    {
      "cell_type": "markdown",
      "metadata": {
        "id": "IaYAb8sLGRyr"
      },
      "source": [
        "Conclusion:\n",
        "\n",
        "1.  Perform preliminary checks on the original dataframe. Found missing values in columns \"deaths\" and \"fips\".  After investigating, proceed to ignore missing \"deaths\" values due to their irrelevance to our project. Attempt to fix abnormal values in column \"fips\" to hopefully gain more insight on the intrastate situation, New York state specifically. \n",
        "\n",
        "2. Get a better understanding on both said columns by using functions such as, .info(), .value_counts(), etc. Recognize all NaN fips values are linked to NYC. Replace NaN values with 36000.0 indicating values are from NYC as a whole. Found non-typical null values (i.e., Unknown) in column \"county\". Make a copy of the dataframe excluding the 10 unknown county values for intrastate analysis. Clean and take a look at NYC data in the past 30 days.\n",
        "\n",
        "3. Take a look at the intrastate situation: slice and filter the dataframe copy to get the restricted dataframe that only contains only New York state data in the past 31 days. Rearrange the data and derive the new cases and deaths per day for each county. Decide to abandon this intrastate analysis due to lacking or forgetting the mass graphing/analysis techniques to effectively analyze the data of 58 counties. Will revisit in the future.\n",
        "\n",
        "4. Take a look at NYS as a whole: group dataframe by \"date\" and slice it to get the past 30 days in sequential order. However, the cumulative counts don't provide too much insight into the recent situation, so I further derive the daily new cases and deaths by using diff() function. After cleaning the past 30 days' data, I find the following. Daily new cases: mean = 4173, mode = 3972, and standard deviation = 1323; daily new deaths: mean = 19, mode = 16, and standard deviation = 9.8. Combined with graphs, I have the overall picture of the trend in NYS. There seems to be a trend of cases and deaths rising; however, the slope of both graphs looks relatively flat. Despite having about 4k new cases daily (suggested by both mean and mode), the death counts per day are rather low, probably due to having the highest vaccination rate in the country.\n",
        "\n",
        "5. Compare two states (i.e., California and Florida) to NYS. Apply similar treatment to extract the dateframes of both states in the past 30 days.\n",
        "\n",
        "6. The way I interpret the case and death counts is that the case counts likely reveal how well the state prevents COVID19 from spreading and that the death counts show how strong the patients in fighting against the disease. All three states have daily case counts increased; however, FL and CA have significantly more average new cases and deaths than NYS. FL has a whopping 182.7 new daily death counts in the past 30 days and the highest 901 death count for a single day. CA is better but not as good as NYS's low new case counts and much lower deaths per day. I think the protective restrictions and the vaccination rates play an important role in flatting the spread curve as well as in lowering the death rates.\n",
        "\n"
      ]
    }
  ]
}